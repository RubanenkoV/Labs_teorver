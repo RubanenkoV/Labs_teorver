#task1
import numpy as np

a1 = [1, 2, 3, 4, 5, 6, 7, 8, 9, 0]
a2 = [chr(i) for i in range(ord('a'), ord('z')+1)]
a3 = [chr(i) for i in range(ord('A'), ord('Z')+1)]
a4 = list('~!@#$%^&*()-_+=\/{}[].,?<>:;')
p = [a1, a2, a3, a4]
ans = [np.random.choice(i) for i in p]
ans1 = list(np.random.choice(a1 + a2 +a3 +a4,size = 6))
pas = ans + ans1
np.random.shuffle(pas)
print(''.join(list(map(str, pas))))

#task2
import numpy as np

def check_repeats(list1,k):
    count = 0
    heads = []
    for i in range(k):
        heads.append('H')
    for j in range(k,len(list1) + 1):
        if list1[j-k:j] == heads:
            count += 1
    return count

n = [10,50, 100, 500, 1000, 5000, 10000]
k = [2, 3]
p = 0.5
for i in n:
    tosses = np.random.choice(["H","T"],p = [p,1-p], size = i)
    #print(list(tosses))
    for j in k:
    
        print("Ймовірність випадіння {} гербів при n = {} : {}".format(j,i,check_repeats(list(tosses),j)/i))
#task3
import numpy as np
import itertools
N = 10000
val = [1, 2, 3, 4, 5 ,6]
p = [[3 ,6], [2,3], [3,5]]

def prob(n,x_max):
    lst = list(itertools.product(val, repeat=n))
    print('n = {}, x_max = {}'.format(n, x_max))
    a = []
    for x in lst:
        if max(x) == x_max:
            a.append(x)

    return (len(a) / len(lst))



for n, x_max in p:
     if (x_max >=1) and (x_max<=6):   
        print('Our theoretical probability:',prob(n,x_max))
        b = [max(np.random.choice(val, size=n)) for i  in range(N)]
        print('Empirical probability:', (b.count(x_max)/N))
     else:
         print(0)
#task4
import numpy as np
import itertools
N = 10000
val = [1, 2, 3, 4, 5 ,6]
p = [[3 ,13], [2,5], [3,7]]

def prob(n,summma):
    lst = list(itertools.product(val, repeat=n))
    print('n = {}, sum = {}'.format(n, summma))
    a = []

    for x in lst:
        if sum(x) == summma:
            a.append(x)

    return (len(a) / len(lst))



for n, summma in p:
     if (summma >=n) and (summma<=6*n):   
        print('Our theoretical probability:',prob(n,summma))
        b = [sum(np.random.choice(val, size=n)) for i  in range(N)]
        print('Empirical probability:', (b.count(summma)/N))
     else:
         print(0)
